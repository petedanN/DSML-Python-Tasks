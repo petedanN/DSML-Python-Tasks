{
  "nbformat": 4,
  "nbformat_minor": 0,
  "metadata": {
    "colab": {
      "provenance": [],
      "authorship_tag": "ABX9TyP4OfiRxwPcC6ri7zgMWSLa",
      "include_colab_link": true
    },
    "kernelspec": {
      "name": "python3",
      "display_name": "Python 3"
    },
    "language_info": {
      "name": "python"
    }
  },
  "cells": [
    {
      "cell_type": "markdown",
      "metadata": {
        "id": "view-in-github",
        "colab_type": "text"
      },
      "source": [
        "<a href=\"https://colab.research.google.com/github/petedanN/DSML-Python-Tasks/blob/main/Python_Fundamentals.ipynb\" target=\"_parent\"><img src=\"https://colab.research.google.com/assets/colab-badge.svg\" alt=\"Open In Colab\"/></a>"
      ]
    },
    {
      "cell_type": "markdown",
      "source": [],
      "metadata": {
        "id": "nPiBDulFFWQ1"
      }
    },
    {
      "cell_type": "markdown",
      "source": [
        "##Exercise 1\n",
        "#**Write Python code that prints your name, student number and email address.**\n",
        "An example runs of the program:\n",
        "\n",
        "Bob\n",
        "\n",
        "ST1001\n",
        "\n",
        "bob@gmail.com"
      ],
      "metadata": {
        "id": "jr-gtGZxFbXi"
      }
    },
    {
      "cell_type": "code",
      "source": [
        "name = input(\"Enter Your Name: \")\n",
        "student_number = input(\"Enter Your Student Number: \")\n",
        "email = input(\"Enter Your E-mail id: \")\n",
        "\n",
        "print(\"\")\n",
        "print(name)\n",
        "print(student_number)\n",
        "print(email)"
      ],
      "metadata": {
        "colab": {
          "base_uri": "https://localhost:8080/"
        },
        "id": "-dFlsqx0F2kz",
        "outputId": "567f2337-6a87-4401-b200-8ec6607970a1"
      },
      "execution_count": 1,
      "outputs": [
        {
          "output_type": "stream",
          "name": "stdout",
          "text": [
            "Enter Your Name: Bob\n",
            "Enter Your Student Number: ST1001\n",
            "Enter Your E-mail id: bob@gmail.com\n",
            "\n",
            "Bob\n",
            "ST1001\n",
            "bob@gmail.com\n"
          ]
        }
      ]
    },
    {
      "cell_type": "markdown",
      "source": [
        "##Exercise 2\n",
        "#**Write Python code that prints your name, student number and email address using escape sequences.**\n",
        "An example runs of the program:\n",
        "\n",
        "Bob\n",
        "\n",
        "ST1001\n",
        "\n",
        "bob@gmail.com"
      ],
      "metadata": {
        "id": "65L1iNDfIRCw"
      }
    },
    {
      "cell_type": "code",
      "source": [
        "name = input(\"Enter Your Name: \")\n",
        "student_number = input(\"Enter Your Student Number: \")\n",
        "email = input(\"Enter Your E-mail id: \")\n",
        "\n",
        "print(f\"\\n{name}\\n{student_number}\\n{email}\")"
      ],
      "metadata": {
        "colab": {
          "base_uri": "https://localhost:8080/"
        },
        "id": "X2wD6xvTIYiN",
        "outputId": "60949930-a0cb-4781-b5f0-ffdcfd46fe89"
      },
      "execution_count": 2,
      "outputs": [
        {
          "output_type": "stream",
          "name": "stdout",
          "text": [
            "Enter Your Name: Bob\n",
            "Enter Your Student Number: ST1001\n",
            "Enter Your E-mail id: bob@gmail.com\n",
            "\n",
            "Bob\n",
            "ST1001\n",
            "bob@gmail.com\n"
          ]
        }
      ]
    },
    {
      "cell_type": "markdown",
      "source": [
        "##Exercise 3\n",
        "#**Write Python code that add, subtract, multiply and divide the two numbers.**\n",
        " An example run of the program:  \n",
        "\n",
        "14 + 7 = 21\n",
        "\n",
        "14 * 7 = 98\n",
        "\n",
        "14 – 7 = 7\n",
        "\n",
        "14 / 7 = 2"
      ],
      "metadata": {
        "id": "FYNdnUT8LzJj"
      }
    },
    {
      "cell_type": "code",
      "source": [
        "num1 = 14\n",
        "num2 = 7\n",
        "\n",
        "addition = num1 +num2\n",
        "print(f\"{num1} + {num2} = {addition}\")\n",
        "\n",
        "substraction = num1 - num2\n",
        "print(f\"{num1} - {num2} = {substraction}\")\n",
        "\n",
        "multiplication = num1 * num2\n",
        "print(f\"{num1} * {num2} = {multiplication}\")\n",
        "\n",
        "division = int(num1/num2)\n",
        "print(f\"{num1} / {num2} = {division}\")"
      ],
      "metadata": {
        "colab": {
          "base_uri": "https://localhost:8080/"
        },
        "id": "RuB9s0uYMC0_",
        "outputId": "e6f39c23-1343-430a-af89-fbdde21a8de2"
      },
      "execution_count": 3,
      "outputs": [
        {
          "output_type": "stream",
          "name": "stdout",
          "text": [
            "14 + 7 = 21\n",
            "14 - 7 = 7\n",
            "14 * 7 = 98\n",
            "14 / 7 = 2\n"
          ]
        }
      ]
    },
    {
      "cell_type": "markdown",
      "source": [
        "##Exercise 4\n",
        "#**Write Python code that displays the numbers from 1 to 5 as steps.**\n",
        "An example runs of the program:\n",
        "\n",
        "1\n",
        "\n",
        "2\n",
        "\n",
        "3\n",
        "\n",
        "4\n",
        "\n",
        "5\n"
      ],
      "metadata": {
        "id": "2EPLxAJ9L2Za"
      }
    },
    {
      "cell_type": "code",
      "source": [
        "for i in range(1,6):\n",
        "  print(i)"
      ],
      "metadata": {
        "colab": {
          "base_uri": "https://localhost:8080/"
        },
        "id": "YD9BgmhdPSMd",
        "outputId": "56e7f533-8df6-4c6c-a093-a60de4f30850"
      },
      "execution_count": 4,
      "outputs": [
        {
          "output_type": "stream",
          "name": "stdout",
          "text": [
            "1\n",
            "2\n",
            "3\n",
            "4\n",
            "5\n"
          ]
        }
      ]
    },
    {
      "cell_type": "markdown",
      "source": [
        "##Exercise 5\n",
        "#**Write Python code that outputs the following sentence (including the quotation marks and line break) to the screen:**\n",
        "An example runs of the program:  \n",
        "\"SDK\" stands for \"Software Development Kit\", whereas\n",
        "\n",
        "\"IDE\" stands for \"Integrated Development Environment\"."
      ],
      "metadata": {
        "id": "aEtBFp7oL3Q1"
      }
    },
    {
      "cell_type": "code",
      "source": [
        "print('\"SDK\" stands for \"Software Development Kit\"')\n",
        "print('\"IDE\" stands for \"Integrated Development Environment\"')"
      ],
      "metadata": {
        "colab": {
          "base_uri": "https://localhost:8080/"
        },
        "id": "OQES9r7lQshO",
        "outputId": "12d13057-ea38-401e-a3c2-a90322088c38"
      },
      "execution_count": 5,
      "outputs": [
        {
          "output_type": "stream",
          "name": "stdout",
          "text": [
            "\"SDK\" stands for \"Software Development Kit\"\n",
            "\"IDE\" stands for \"Integrated Development Environment\"\n"
          ]
        }
      ]
    },
    {
      "cell_type": "markdown",
      "source": [
        "##Exercise 6\n",
        "#**Practice and check the output**\n",
        "print(\"python is an \\\"awesome\\\" language.\")\n",
        "\n",
        "print(\"python\\n\\t2023\")\n",
        "\n",
        "print('I\\'m from Entri.\\b')\n",
        "\n",
        "print(\"\\65\")\n",
        "\n",
        "print(\"\\x65\")\n",
        "\n",
        "print(\"Entri\", \"2023\", sep=\"\\n\")\n",
        "\n",
        "print(\"Entri\", \"2023\", sep=\"\\b\")\n",
        "\n",
        "print(\"Entri\", \"2023\", sep=\"*\", end=\"\\b\\b\\b\\b\")\n"
      ],
      "metadata": {
        "id": "_YELuT48L4DN"
      }
    },
    {
      "cell_type": "code",
      "source": [
        "print('\"python is an \"awesome\" language.\"')"
      ],
      "metadata": {
        "colab": {
          "base_uri": "https://localhost:8080/"
        },
        "id": "VTHKJWlvRg0p",
        "outputId": "cc67a3ab-a976-499b-909e-4a568852f9f6"
      },
      "execution_count": 6,
      "outputs": [
        {
          "output_type": "stream",
          "name": "stdout",
          "text": [
            "\"python is an \"awesome\" language.\"\n"
          ]
        }
      ]
    },
    {
      "cell_type": "code",
      "source": [
        "print('\"python\\n\\t2023\"')"
      ],
      "metadata": {
        "colab": {
          "base_uri": "https://localhost:8080/"
        },
        "id": "nO9myG7kY_ge",
        "outputId": "745dba14-1f26-4a4e-de00-283720383329"
      },
      "execution_count": 7,
      "outputs": [
        {
          "output_type": "stream",
          "name": "stdout",
          "text": [
            "\"python\n",
            "\t2023\"\n"
          ]
        }
      ]
    },
    {
      "cell_type": "code",
      "source": [
        "print(\"'I'm from Entri.\\b'\")"
      ],
      "metadata": {
        "colab": {
          "base_uri": "https://localhost:8080/"
        },
        "id": "Et5zQ0usZCez",
        "outputId": "a97078d3-db18-4e24-c041-009497726a93"
      },
      "execution_count": 8,
      "outputs": [
        {
          "output_type": "stream",
          "name": "stdout",
          "text": [
            "'I'm from Entri.\b'\n"
          ]
        }
      ]
    },
    {
      "cell_type": "code",
      "source": [
        "print('\"\\65\"')\n",
        "\n",
        "print(\"\\x65\")\n"
      ],
      "metadata": {
        "colab": {
          "base_uri": "https://localhost:8080/"
        },
        "id": "0CQvP3r6ZEk_",
        "outputId": "de5c8177-5edf-4563-d27c-5dd8137febd6"
      },
      "execution_count": 9,
      "outputs": [
        {
          "output_type": "stream",
          "name": "stdout",
          "text": [
            "\"5\"\n",
            "e\n"
          ]
        }
      ]
    },
    {
      "cell_type": "code",
      "source": [
        "print(\"Entri\", \"2023\", sep=\"\\n\")"
      ],
      "metadata": {
        "colab": {
          "base_uri": "https://localhost:8080/"
        },
        "id": "8pgDQh8AZGwv",
        "outputId": "9a804121-f440-4779-de43-7aa36de8b53a"
      },
      "execution_count": 10,
      "outputs": [
        {
          "output_type": "stream",
          "name": "stdout",
          "text": [
            "Entri\n",
            "2023\n"
          ]
        }
      ]
    },
    {
      "cell_type": "code",
      "source": [
        "print(\"Entri\", \"2023\", sep=\"\\b\")"
      ],
      "metadata": {
        "colab": {
          "base_uri": "https://localhost:8080/"
        },
        "id": "9SvkzY1gZWvX",
        "outputId": "175d260e-2fca-4bfc-af77-73ddc9a7b611"
      },
      "execution_count": 11,
      "outputs": [
        {
          "output_type": "stream",
          "name": "stdout",
          "text": [
            "Entri\b2023\n"
          ]
        }
      ]
    },
    {
      "cell_type": "code",
      "source": [
        "print(\"Entri\", \"2023\", sep=\"*\", end=\"\\b\\b\\b\\b\")"
      ],
      "metadata": {
        "colab": {
          "base_uri": "https://localhost:8080/"
        },
        "id": "n2brmOpJZjHF",
        "outputId": "86d83f92-b05a-45c1-9e19-899f1154ba8f"
      },
      "execution_count": 12,
      "outputs": [
        {
          "output_type": "stream",
          "name": "stdout",
          "text": [
            "Entri*2023\b\b\b\b"
          ]
        }
      ]
    },
    {
      "cell_type": "markdown",
      "source": [
        "##Exercise 7\n",
        "#**Define the variables below. Print the types of each variable. What is the sum of your variables? (Hint: use a type conversion function.) What datatype is the sum?**\n",
        "num=23\n",
        "\n",
        "textnum=\"57\"\n",
        "\n",
        "decimal=98.3"
      ],
      "metadata": {
        "id": "8QwVqyeeZzpG"
      }
    },
    {
      "cell_type": "code",
      "source": [
        "num=23\n",
        "textnum=\"57\"\n",
        "decimal=98.3\n",
        "\n",
        "print(f\"Type of num is {type(num)}\")\n",
        "print(f\"Type of textnum is {type(textnum)}\")\n",
        "print(f\"Type of decimal is {type(decimal)}\")\n",
        "\n",
        "sum = num + int(textnum) + decimal\n",
        "\n",
        "print(f\"The total sum is {sum}\")\n",
        "\n",
        "\n"
      ],
      "metadata": {
        "colab": {
          "base_uri": "https://localhost:8080/"
        },
        "id": "WWISGi_4ax_1",
        "outputId": "ecc0f55e-29f5-4000-9664-3227736b14a2"
      },
      "execution_count": 13,
      "outputs": [
        {
          "output_type": "stream",
          "name": "stdout",
          "text": [
            "Type of num is <class 'int'>\n",
            "Type of textnum is <class 'str'>\n",
            "Type of decimal is <class 'float'>\n",
            "The total sum is 178.3\n"
          ]
        }
      ]
    },
    {
      "cell_type": "markdown",
      "source": [
        "##Exercise 8\n",
        "#**Calculate the number of minutes in a year using variables for each unit of time. print a statement that describes what your code does also. Create three variables to store no of days in a year, minute in a hour, hours in a day, then calculate the total minutes in a year and print the values**\n",
        "(hint) total number of minutes in an year =No.of days in an year * Hours in a day * Minutes in an hour"
      ],
      "metadata": {
        "id": "VXCjfS2ocU4p"
      }
    },
    {
      "cell_type": "code",
      "source": [
        "days_in_year = 365\n",
        "hours_in_day = 24\n",
        "minutes_in_hour = 60\n",
        "\n",
        "total_minutes = days_in_year * hours_in_day * minutes_in_hour\n",
        "\n",
        "print(\"Number of days in a year:\", days_in_year)\n",
        "print(\"Number of hours in a day:\", hours_in_day)\n",
        "print(\"Number of minutes in an hour:\", minutes_in_hour)\n",
        "\n",
        "\n",
        "print(\"Total number of minutes in a year:\", total_minutes)"
      ],
      "metadata": {
        "colab": {
          "base_uri": "https://localhost:8080/"
        },
        "id": "QO4eJUzCdUez",
        "outputId": "adce7b79-aac0-48c2-8ce1-20ebe39c26c7"
      },
      "execution_count": 14,
      "outputs": [
        {
          "output_type": "stream",
          "name": "stdout",
          "text": [
            "Number of days in a year: 365\n",
            "Number of hours in a day: 24\n",
            "Number of minutes in an hour: 60\n",
            "Total number of minutes in a year: 525600\n"
          ]
        }
      ]
    },
    {
      "cell_type": "markdown",
      "source": [
        "##Exercise 9\n",
        "#**Write Python code that asks the user to enter his/her name and then output/prints his/her name with a greeting.**\n",
        "An example runs of the program:\n",
        "\n",
        "Please enter you name: Tony\n",
        "\n",
        "Hi Tony, welcome to Python programming :)"
      ],
      "metadata": {
        "id": "INpDtp0XcVhC"
      }
    },
    {
      "cell_type": "code",
      "source": [
        "name = input(\"Please enter you name: \")\n",
        "print(f\"Hi {name}, Welcome to Python Programming :)\")"
      ],
      "metadata": {
        "colab": {
          "base_uri": "https://localhost:8080/"
        },
        "id": "czn75rrAePV2",
        "outputId": "5aeda59b-44c8-484f-e7ad-31d4d6942706"
      },
      "execution_count": 15,
      "outputs": [
        {
          "output_type": "stream",
          "name": "stdout",
          "text": [
            "Please enter you name: Tony\n",
            "Hi Tony, Welcome to Python Programming :)\n"
          ]
        }
      ]
    },
    {
      "cell_type": "markdown",
      "source": [
        "##Exercise 10\n",
        "#Name your file: PoundsToDollars.py\n",
        "\n",
        "#Write a program that asks the user to enter an amount in pounds (£) and the program calculates and converts an amount in dollar ($)\n",
        "\n",
        "An example runs of the program:\n",
        "\n",
        "Please enter amount in pounds: XXX\n",
        "\n",
        "£ XXX are $ XXX**"
      ],
      "metadata": {
        "id": "yC-uPgyKcWKp"
      }
    },
    {
      "cell_type": "code",
      "source": [
        "pounds = float(input(\"Enter an amount in Pounds: \"))\n",
        "conversion = 1.25\n",
        "dollars = pounds * conversion\n",
        "\n",
        "print(f\"£ {pounds} are $ {dollars}\")"
      ],
      "metadata": {
        "colab": {
          "base_uri": "https://localhost:8080/"
        },
        "id": "7bSqI7gLev6-",
        "outputId": "06c39b4d-dd3f-4d7a-ea1f-6d55a77b037c"
      },
      "execution_count": 16,
      "outputs": [
        {
          "output_type": "stream",
          "name": "stdout",
          "text": [
            "Enter an amount in Pounds: 25.5\n",
            "£ 25.5 are $ 31.875\n"
          ]
        }
      ]
    }
  ]
}