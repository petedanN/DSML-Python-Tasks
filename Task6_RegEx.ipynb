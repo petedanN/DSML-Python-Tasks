{
  "nbformat": 4,
  "nbformat_minor": 0,
  "metadata": {
    "colab": {
      "provenance": [],
      "include_colab_link": true
    },
    "kernelspec": {
      "name": "python3",
      "display_name": "Python 3"
    },
    "language_info": {
      "name": "python"
    }
  },
  "cells": [
    {
      "cell_type": "markdown",
      "metadata": {
        "id": "view-in-github",
        "colab_type": "text"
      },
      "source": [
        "<a href=\"https://colab.research.google.com/github/petedanN/DSML-Python-Tasks/blob/main/Task6_RegEx.ipynb\" target=\"_parent\"><img src=\"https://colab.research.google.com/assets/colab-badge.svg\" alt=\"Open In Colab\"/></a>"
      ]
    },
    {
      "cell_type": "markdown",
      "source": [
        "#**1. Write a Python program to check that a string contains only a certain set of characters (in this case a-z, A-Z and 0-9).**\n",
        "\n"
      ],
      "metadata": {
        "id": "fpQX9wBhb6ox"
      }
    },
    {
      "cell_type": "code",
      "execution_count": 1,
      "metadata": {
        "id": "5HKhizIkbt59",
        "colab": {
          "base_uri": "https://localhost:8080/"
        },
        "outputId": "6e59efca-62cc-40d2-b286-50ceab5b4dfe"
      },
      "outputs": [
        {
          "output_type": "stream",
          "name": "stdout",
          "text": [
            "Enter the String: hEllO911\n",
            "String is a Match\n"
          ]
        }
      ],
      "source": [
        "import re\n",
        "\n",
        "txt = input(\"Enter the String: \")\n",
        "pattern = (r'^[a-zA-Z0-9]+$')\n",
        "if re.match(pattern, txt):\n",
        "  print(\"String is a Match\")\n",
        "else:\n",
        "  print(\"String is not a Match\")"
      ]
    },
    {
      "cell_type": "markdown",
      "source": [
        "#**2. Write a Python program that matches a string that has an 'a' followed by zero or more 'b's.**\n",
        "\n"
      ],
      "metadata": {
        "id": "rtdxRzltcRtS"
      }
    },
    {
      "cell_type": "code",
      "source": [
        "import re\n",
        "\n",
        "def match_string(text):\n",
        "\n",
        "  pattern = r\"^a(b*)$\"\n",
        "  if re.search(pattern, text):\n",
        "    return \"Found a match!\"\n",
        "  else:\n",
        "    return \"Not matched!\"\n",
        "\n",
        "strings = [\"a\", \"ab\", \"aabbb\", \"ac\", \"abbbbbbb\"]\n",
        "for string in strings:\n",
        "  print(match_string(string))\n"
      ],
      "metadata": {
        "id": "ZjdCBYZAcZGl",
        "colab": {
          "base_uri": "https://localhost:8080/"
        },
        "outputId": "c29e97a8-7346-42d9-b44f-99267ccbb3b9"
      },
      "execution_count": 2,
      "outputs": [
        {
          "output_type": "stream",
          "name": "stdout",
          "text": [
            "Found a match!\n",
            "Found a match!\n",
            "Not matched!\n",
            "Not matched!\n",
            "Found a match!\n"
          ]
        }
      ]
    },
    {
      "cell_type": "markdown",
      "source": [
        "#**3. Replace only the first occurrence of 5 with five for the given string.**\n",
        "\n"
      ],
      "metadata": {
        "id": "kyvbz3eNcZri"
      }
    },
    {
      "cell_type": "code",
      "source": [
        "txt = 'They ate 5 apples and 5 oranges'\n",
        "\n",
        "import re\n",
        "\n",
        "replace = re.sub(\"5\", \"Five\", txt, count = 1)\n",
        "print(replace)"
      ],
      "metadata": {
        "id": "pgZy45dxcqSg",
        "colab": {
          "base_uri": "https://localhost:8080/"
        },
        "outputId": "fa82305d-406a-45f3-edf8-546f254b1903"
      },
      "execution_count": 14,
      "outputs": [
        {
          "output_type": "stream",
          "name": "stdout",
          "text": [
            "They ate Five apples and 5 oranges\n"
          ]
        }
      ]
    },
    {
      "cell_type": "markdown",
      "source": [
        "#**4. Write a Python program that matches a string that has an a followed by three 'b'.**\n",
        "\n"
      ],
      "metadata": {
        "id": "h_b1-o6ncuzM"
      }
    },
    {
      "cell_type": "code",
      "source": [
        "import re\n",
        "\n",
        "txt = input(\"Enter the string: \")\n",
        "match_found = re.search(r'ab{3}', txt)\n",
        "\n",
        "if match_found:\n",
        "    print(\"Match found:\", match_found.group())\n",
        "else:\n",
        "    print(\"No match found.\")\n"
      ],
      "metadata": {
        "id": "GZO59fSDi4Cr",
        "colab": {
          "base_uri": "https://localhost:8080/"
        },
        "outputId": "996977e0-38ba-497d-b38b-151b1ce69807"
      },
      "execution_count": 16,
      "outputs": [
        {
          "output_type": "stream",
          "name": "stdout",
          "text": [
            "Enter the string: ab aab abbb abab\n",
            "Match found: abbb\n"
          ]
        }
      ]
    },
    {
      "cell_type": "markdown",
      "source": [
        "#**5. Write a Python program that matches a string that has an 'a' followed by anything ending in 'b'.**\n",
        "\n"
      ],
      "metadata": {
        "id": "K2vPe01bc2LN"
      }
    },
    {
      "cell_type": "code",
      "source": [
        "\n",
        "import re\n",
        "\n",
        "txt = input(\"Enter the string: \")\n",
        "match_found = re.search(r'a\\S*b\\b', txt)\n",
        "\n",
        "if match_found:\n",
        "    print(\"Match found:\", match_found.group())\n",
        "else:\n",
        "    print(\"No match found.\")\n"
      ],
      "metadata": {
        "id": "f8KfX59qc3UJ",
        "colab": {
          "base_uri": "https://localhost:8080/"
        },
        "outputId": "f547b0bd-fca6-481c-ae6e-b3816c2865ac"
      },
      "execution_count": 13,
      "outputs": [
        {
          "output_type": "stream",
          "name": "stdout",
          "text": [
            "Enter the string: abc aaa aba abb\n",
            "Match found: abb\n"
          ]
        }
      ]
    },
    {
      "cell_type": "markdown",
      "source": [
        "#**6. Write a Python program to search for numbers (0-9) of length between 1 and 3 in a given string.**"
      ],
      "metadata": {
        "id": "NyL-DhqXdZi7"
      }
    },
    {
      "cell_type": "code",
      "source": [
        "import re\n",
        "\n",
        "def find_numbers(text):\n",
        "\n",
        "  results = re.findall(r\"([0-9]{1,3})\", text)\n",
        "  return results\n",
        "\n",
        "text=\"Exercises number 1, 12, 13, and 345 are important\"\n",
        "numbers = find_numbers(text)\n",
        "\n",
        "print(\"Numbers of length 1 to 3:\" , numbers)\n"
      ],
      "metadata": {
        "id": "pWsu0HljdnKX",
        "colab": {
          "base_uri": "https://localhost:8080/"
        },
        "outputId": "2f92e271-1386-4b6f-c41c-46cc8e3756f4"
      },
      "execution_count": 6,
      "outputs": [
        {
          "output_type": "stream",
          "name": "stdout",
          "text": [
            "Numbers of length 1 to 3: ['1', '12', '13', '345']\n"
          ]
        }
      ]
    },
    {
      "cell_type": "markdown",
      "source": [
        "#**7. Write a Python program to search for literal strings within a string.**\n",
        "Sample text : 'The quick brown fox jumps over the lazy dog.'  \n",
        "Searched words : 'fox', 'dog', 'horse'"
      ],
      "metadata": {
        "id": "aWaHWXFjdqy7"
      }
    },
    {
      "cell_type": "code",
      "source": [
        "import re\n",
        "\n",
        "text = 'The quick brown fox jumps over the lazy dog.'\n",
        "words = ['fox', 'dog', 'horse']\n",
        "\n",
        "for word in words:\n",
        "  match = re.search(word, text)\n",
        "  if match:\n",
        "    print(f\"'{word}' found \")\n",
        "  else:\n",
        "    print(f\"'{word}' not found.\")\n"
      ],
      "metadata": {
        "id": "bVAMeTMddnmf",
        "colab": {
          "base_uri": "https://localhost:8080/"
        },
        "outputId": "e5eda3b9-5c03-4831-ce92-9d02c1b292c8"
      },
      "execution_count": 7,
      "outputs": [
        {
          "output_type": "stream",
          "name": "stdout",
          "text": [
            "'fox' found \n",
            "'dog' found \n",
            "'horse' not found.\n"
          ]
        }
      ]
    },
    {
      "cell_type": "markdown",
      "source": [
        "#**8. Write a Python program to search for a literal string in a string and also find the location within the original string where the pattern occurs.**\n",
        "\n",
        "Sample text : 'The quick brown fox jumps over the lazy dog.' \\\n",
        "Searched words : 'fox'"
      ],
      "metadata": {
        "id": "2cgZLc6Yd0sE"
      }
    },
    {
      "cell_type": "code",
      "source": [
        "import re\n",
        "\n",
        "def find_string_location(text, pattern):\n",
        "\n",
        "  match = re.search(pattern, text)\n",
        "  if match:\n",
        "    return match.start()\n",
        "  else:\n",
        "    return None\n",
        "\n",
        "text = \"The quick brown fox jumps over the lazy dog.\"\n",
        "searched_word = \"fox\"\n",
        "\n",
        "location = find_string_location(text, searched_word)\n",
        "\n",
        "if True:\n",
        "  print(f\"Found '{searched_word}' at index: {location}\")\n",
        "else:\n",
        "  print(f\"'{searched_word}' not found in the text.\")\n"
      ],
      "metadata": {
        "id": "Tj1FCCx4d3zZ",
        "colab": {
          "base_uri": "https://localhost:8080/"
        },
        "outputId": "bd2a6e38-a3b8-4b5c-b5dd-e9724f2ba22a"
      },
      "execution_count": 8,
      "outputs": [
        {
          "output_type": "stream",
          "name": "stdout",
          "text": [
            "Found 'fox' at index: 16\n"
          ]
        }
      ]
    },
    {
      "cell_type": "markdown",
      "source": [
        "#**9.  Write a Python program to extract year, month and date from an URL.**"
      ],
      "metadata": {
        "id": "ixuwdsnvdtcP"
      }
    },
    {
      "cell_type": "code",
      "source": [
        "import re\n",
        "\n",
        "url = \"https://www.washingtonpost.com/news/football-insider/wp/2016/09/02/odell-beckhams-fame-rests-on-one-stupid-little-ball-josh-norman-tells-author/\"\n",
        "\n",
        "match = re.search(r\"/(\\d{4})/(\\d{2})/(\\d{2})/\", url)\n",
        "\n",
        "if match:\n",
        "    year = match.group(1)\n",
        "    month = match.group(2)\n",
        "    date = match.group(3)\n",
        "\n",
        "    print(\"Year:\", year)\n",
        "    print(\"Month:\", month)\n",
        "    print(\"Date:\", date)"
      ],
      "metadata": {
        "id": "uWA2_OfJeFpw",
        "colab": {
          "base_uri": "https://localhost:8080/"
        },
        "outputId": "7307a72a-48ec-4a30-eecf-f1a93bf27055"
      },
      "execution_count": 9,
      "outputs": [
        {
          "output_type": "stream",
          "name": "stdout",
          "text": [
            "Year: 2016\n",
            "Month: 09\n",
            "Date: 02\n"
          ]
        }
      ]
    },
    {
      "cell_type": "markdown",
      "source": [
        "#**10. Write a Python program to find URLs in a string.**\n",
        "\n"
      ],
      "metadata": {
        "id": "Qdob8Ojkea-W"
      }
    },
    {
      "cell_type": "code",
      "source": [
        "import re\n",
        "\n",
        "def find_urls(text):\n",
        "    url_pattern = re.compile(r'href=\"(http[s]?://[^\"]+)\"')\n",
        "    urls = url_pattern.findall(text)\n",
        "    return urls\n",
        "\n",
        "\n",
        "text = '<p>Contents :</p><a href=\"https://w3resource.com\">Python Examples</a><a href=\"http://github.com\">Even More Examples</a>'\n",
        "\n",
        "urls = find_urls(text)\n",
        "print(urls)"
      ],
      "metadata": {
        "colab": {
          "base_uri": "https://localhost:8080/"
        },
        "id": "sIyyw0kmJG4A",
        "outputId": "2cf706ab-361e-4401-f67e-58a83fb98a8b"
      },
      "execution_count": 10,
      "outputs": [
        {
          "output_type": "stream",
          "name": "stdout",
          "text": [
            "['https://w3resource.com', 'http://github.com']\n"
          ]
        }
      ]
    },
    {
      "cell_type": "markdown",
      "source": [
        "#**11. Write a Python program to remove the parenthesis area in a string.**\n",
        "\n",
        "Sample data : [\"example (.com)\", \"w3resource\", \"github (.com)\", \"stackoverflow (.com)\"] \\\n",
        "Expected Output: \\\n",
        "example  \\\n",
        "w3resource \\\n",
        "github  \\\n",
        "stackoverflow. \\\n",
        "\n"
      ],
      "metadata": {
        "id": "5mX_cCEFepSi"
      }
    },
    {
      "cell_type": "code",
      "source": [
        "import re\n",
        "\n",
        "def remove_parenthesis_area(text):\n",
        "\n",
        "  return re.sub(r\"\\([^)]*\\)\", \"\", text)\n",
        "\n",
        "data = [\"example (.com)\", \"w3resource\", \"github (.com)\", \"stackoverflow (.com)\"]\n",
        "cleaned_data = [remove_parenthesis_area(item) for item in data]\n",
        "\n",
        "for item in cleaned_data:\n",
        "  print(item)\n"
      ],
      "metadata": {
        "id": "CNYOSWfLee_M",
        "colab": {
          "base_uri": "https://localhost:8080/"
        },
        "outputId": "707f4d11-3394-4c38-c5b8-f0be6704199c"
      },
      "execution_count": 11,
      "outputs": [
        {
          "output_type": "stream",
          "name": "stdout",
          "text": [
            "example \n",
            "w3resource\n",
            "github \n",
            "stackoverflow \n"
          ]
        }
      ]
    },
    {
      "cell_type": "markdown",
      "source": [
        "#**12. Write a Python program to concatenate the consecutive numbers in a given string.**\n",
        "\n",
        "Original string:  \\\n",
        "Enter at 1 20 Kearny Street. The security desk can direct you to floor 1 6. Please have your identification ready.  \\\n",
        "\n",
        "After concatenating the consecutive numbers in the said string:  \\\n",
        "Enter at 120 Kearny Street. The security desk can direct you to floor 16. Please have your identification ready."
      ],
      "metadata": {
        "id": "sRhveFHXe7nz"
      }
    },
    {
      "cell_type": "code",
      "source": [
        "import re\n",
        "\n",
        "txt=\"Enter at 1 20 Kearny Street. The security desk can direct you to floor 1 6. Please have your identification ready.\"\n",
        "\n",
        "output=re.sub(r'(\\b\\d+)\\s+(\\d+\\b)', lambda x:x.group(1)+x.group(2), txt)\n",
        "print(f\"Result After concatenating the consecutive numbers  {output}\")"
      ],
      "metadata": {
        "colab": {
          "base_uri": "https://localhost:8080/"
        },
        "id": "k5r7z6jxLjIU",
        "outputId": "6df8bcb8-c4ea-4889-a703-98861a68c865"
      },
      "execution_count": 12,
      "outputs": [
        {
          "output_type": "stream",
          "name": "stdout",
          "text": [
            "Result After concatenating the consecutive numbers  Enter at 120 Kearny Street. The security desk can direct you to floor 16. Please have your identification ready.\n"
          ]
        }
      ]
    }
  ]
}