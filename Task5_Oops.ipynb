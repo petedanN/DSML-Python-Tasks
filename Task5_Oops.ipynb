{
  "nbformat": 4,
  "nbformat_minor": 0,
  "metadata": {
    "colab": {
      "provenance": [],
      "authorship_tag": "ABX9TyOFCzqGbE2z/lj8WJipgUBk",
      "include_colab_link": true
    },
    "kernelspec": {
      "name": "python3",
      "display_name": "Python 3"
    },
    "language_info": {
      "name": "python"
    }
  },
  "cells": [
    {
      "cell_type": "markdown",
      "metadata": {
        "id": "view-in-github",
        "colab_type": "text"
      },
      "source": [
        "<a href=\"https://colab.research.google.com/github/petedanN/DSML-Python-Tasks/blob/main/Task5_Oops.ipynb\" target=\"_parent\"><img src=\"https://colab.research.google.com/assets/colab-badge.svg\" alt=\"Open In Colab\"/></a>"
      ]
    },
    {
      "cell_type": "markdown",
      "source": [
        "#**1. Write a Python program to create a class representing a Circle. Include methods to calculate its area and perimeter.**\n"
      ],
      "metadata": {
        "id": "WnuLEBsSkz66"
      }
    },
    {
      "cell_type": "code",
      "execution_count": 1,
      "metadata": {
        "colab": {
          "base_uri": "https://localhost:8080/"
        },
        "id": "XwjOOcqBkuC_",
        "outputId": "5243ddea-aee2-4732-dabb-ae554ecb3863"
      },
      "outputs": [
        {
          "output_type": "stream",
          "name": "stdout",
          "text": [
            "Enter the radius of the circle: 4\n",
            "Area of the circle: 50.26548245743669\n",
            "Perimeter of the circle: 25.132741228718345\n"
          ]
        }
      ],
      "source": [
        "import math\n",
        "\n",
        "class Circle:\n",
        "    def __init__(self, radius):\n",
        "        self.radius = radius\n",
        "\n",
        "    def area(self):\n",
        "        return math.pi * (self.radius ** 2)\n",
        "\n",
        "    def perimeter(self):\n",
        "        return 2 * math.pi * self.radius\n",
        "\n",
        "radius = float(input(\"Enter the radius of the circle: \"))\n",
        "circle = Circle(radius)\n",
        "print(\"Area of the circle:\", circle.area())\n",
        "print(\"Perimeter of the circle:\", circle.perimeter())\n"
      ]
    },
    {
      "cell_type": "markdown",
      "source": [
        "#**2. Write a Python program to create a calculator class. Include methods for basic arithmetic operations.**"
      ],
      "metadata": {
        "id": "L16AXVGwmMo_"
      }
    },
    {
      "cell_type": "code",
      "source": [
        "class Calculator:\n",
        "    def add(self, num1, num2):\n",
        "        return num1 + num2\n",
        "\n",
        "    def subtract(self, num1, num2):\n",
        "        return num1 - num2\n",
        "\n",
        "    def multiply(self, num1, num2):\n",
        "        return num1 * num2\n",
        "\n",
        "    def divide(self, num1, num2):\n",
        "        if num2 == 0:\n",
        "            return \"Cannot divide by Zero!\"\n",
        "        else:\n",
        "            return num1 / num2\n",
        "\n",
        "calculator = Calculator()\n",
        "print(\"Addition:\", calculator.add(10, 4))\n",
        "print(\"Subtraction:\", calculator.subtract(55, 4))\n",
        "print(\"Multiplication:\", calculator.multiply(15, 20))\n",
        "print(\"Division:\", calculator.divide(15, 5))\n"
      ],
      "metadata": {
        "colab": {
          "base_uri": "https://localhost:8080/"
        },
        "id": "Wj13vqPcmUdx",
        "outputId": "0cca935c-48ec-4224-b3d5-54cb4a31b98e"
      },
      "execution_count": 2,
      "outputs": [
        {
          "output_type": "stream",
          "name": "stdout",
          "text": [
            "Addition: 14\n",
            "Subtraction: 51\n",
            "Multiplication: 300\n",
            "Division: 3.0\n"
          ]
        }
      ]
    },
    {
      "cell_type": "markdown",
      "source": [
        "#**3. Write a Python program to create a class that represents a shape. Include methods to calculate its area and perimeter. Implement subclasses for different shapes like circle, triangle, and square.**"
      ],
      "metadata": {
        "id": "7hMGIqolm0Ok"
      }
    },
    {
      "cell_type": "code",
      "source": [
        "import math\n",
        "\n",
        "class Shape:\n",
        "    def area(self):\n",
        "        pass\n",
        "\n",
        "    def perimeter(self):\n",
        "        pass\n",
        "\n",
        "class Circle(Shape):\n",
        "    def __init__(self, radius):\n",
        "        self.radius = radius\n",
        "\n",
        "    def area(self):\n",
        "        return math.pi * self.radius ** 2\n",
        "\n",
        "    def perimeter(self):\n",
        "        return 2 * math.pi * self.radius\n",
        "\n",
        "class Triangle(Shape):\n",
        "    def __init__(self, side1, side2, side3):\n",
        "        self.side1 = side1\n",
        "        self.side2 = side2\n",
        "        self.side3 = side3\n",
        "\n",
        "    def perimeter(self):\n",
        "        return self.side1 + self.side2 + self.side3\n",
        "\n",
        "    def area(self):\n",
        "        s = (self.side1 + self.side2 + self.side3) / 2\n",
        "        return math.sqrt(s * (s - self.side1) * (s - self.side2) * (s - self.side3))\n",
        "\n",
        "class Square(Shape):\n",
        "    def __init__(self, side):\n",
        "        self.side = side\n",
        "\n",
        "    def area(self):\n",
        "        return self.side ** 2\n",
        "\n",
        "    def perimeter(self):\n",
        "        return 4 * self.side\n",
        "\n",
        "circle = Circle(5)\n",
        "print(\"Circle Area:\", circle.area())\n",
        "print(\"Circle Perimeter:\", circle.perimeter())\n",
        "\n",
        "triangle = Triangle(3, 4, 5)\n",
        "print(\"Triangle Area:\", triangle.area())\n",
        "print(\"Triangle Perimeter:\", triangle.perimeter())\n",
        "\n",
        "square = Square(2)\n",
        "print(\"Square Area:\", square.area())\n",
        "print(\"Square Perimeter:\", square.perimeter())\n"
      ],
      "metadata": {
        "colab": {
          "base_uri": "https://localhost:8080/"
        },
        "id": "w-DrSzhIm5mg",
        "outputId": "dd937b48-8bd9-46e8-ee35-a650131dec54"
      },
      "execution_count": 4,
      "outputs": [
        {
          "output_type": "stream",
          "name": "stdout",
          "text": [
            "Circle Area: 78.53981633974483\n",
            "Circle Perimeter: 31.41592653589793\n",
            "Triangle Area: 6.0\n",
            "Triangle Perimeter: 12\n",
            "Square Area: 4\n",
            "Square Perimeter: 8\n"
          ]
        }
      ]
    }
  ]
}