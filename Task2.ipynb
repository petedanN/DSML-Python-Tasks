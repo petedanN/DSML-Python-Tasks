{
  "nbformat": 4,
  "nbformat_minor": 0,
  "metadata": {
    "colab": {
      "provenance": [],
      "authorship_tag": "ABX9TyMnl0qWjzE8/mV9b9xqQiDt",
      "include_colab_link": true
    },
    "kernelspec": {
      "name": "python3",
      "display_name": "Python 3"
    },
    "language_info": {
      "name": "python"
    }
  },
  "cells": [
    {
      "cell_type": "markdown",
      "metadata": {
        "id": "view-in-github",
        "colab_type": "text"
      },
      "source": [
        "<a href=\"https://colab.research.google.com/github/petedanN/DSML-Python-Tasks/blob/main/Task2.ipynb\" target=\"_parent\"><img src=\"https://colab.research.google.com/assets/colab-badge.svg\" alt=\"Open In Colab\"/></a>"
      ]
    },
    {
      "cell_type": "markdown",
      "source": [
        "#1.**Write a Python Program to sum all the items in a list**."
      ],
      "metadata": {
        "id": "ru6cbb5wK7mR"
      }
    },
    {
      "cell_type": "code",
      "source": [
        "items = [5, 10, 15, 20, 50]\n",
        "def sum(items):\n",
        "  total=0\n",
        "  for i in items:\n",
        "    total+=i\n",
        "  return total\n",
        "\n",
        "\n",
        "total = sum(items)\n",
        "print(f\"The sum of the list is: {total}\")"
      ],
      "metadata": {
        "colab": {
          "base_uri": "https://localhost:8080/"
        },
        "id": "TplwGPvlL0L8",
        "outputId": "541cb6a7-e750-4f49-a8f9-23a06d0a4c56"
      },
      "execution_count": null,
      "outputs": [
        {
          "output_type": "stream",
          "name": "stdout",
          "text": [
            "The sum of the list is: 100\n"
          ]
        }
      ]
    },
    {
      "cell_type": "markdown",
      "source": [
        "#2.**Write a Python Program to get the largest number from a list.**"
      ],
      "metadata": {
        "id": "Iy-4cJZoNBig"
      }
    },
    {
      "cell_type": "code",
      "source": [
        "my_list = [75, 10.5, 75, 45, 89, 10, 88]\n",
        "def get_largest(numbers):\n",
        "  largest = numbers[0]\n",
        "  for number in numbers:\n",
        "    if number > largest:\n",
        "      largest = number\n",
        "  return largest\n",
        "\n",
        "\n",
        "largest_number = get_largest(my_list)\n",
        "print(f\"The largest number in the list is: {largest_number}\")"
      ],
      "metadata": {
        "colab": {
          "base_uri": "https://localhost:8080/"
        },
        "id": "fBfh81HLNI5s",
        "outputId": "1f404960-6bec-4e59-eda4-b6745c2a093c"
      },
      "execution_count": null,
      "outputs": [
        {
          "output_type": "stream",
          "name": "stdout",
          "text": [
            "The largest number in the list is: 89\n"
          ]
        }
      ]
    },
    {
      "cell_type": "markdown",
      "source": [
        "#3.**Write a Python program to count the number of strings from a given list of strings. The string length is 2 or more and the first and last characters are the same.**\n",
        "**Sample List : ['abc', 'xyz', 'aba', '1221']  \n",
        "Expected Result : 2**"
      ],
      "metadata": {
        "id": "U7VCvAM6ObuA"
      }
    },
    {
      "cell_type": "code",
      "source": [
        "my_list = ['abc', 'xyz', 'aba', '1221','adbda','ccc','7957','1212']\n",
        "def count_same_first_last(words):\n",
        "\n",
        "  count = 0\n",
        "  for word in words:\n",
        "    if len(word) > 1 and word[0] == word[-1]:\n",
        "      count += 1\n",
        "  return count\n",
        "\n",
        "same_count = count_same_first_last(my_list)\n",
        "\n",
        "print(f\"The number of strings with same first and last characters is: {same_count}\")\n"
      ],
      "metadata": {
        "colab": {
          "base_uri": "https://localhost:8080/"
        },
        "id": "-cTOHY1QPThT",
        "outputId": "85463415-f47f-4619-b48f-75ff80c7ece7"
      },
      "execution_count": null,
      "outputs": [
        {
          "output_type": "stream",
          "name": "stdout",
          "text": [
            "The number of strings with same first and last characters is: 5\n"
          ]
        }
      ]
    },
    {
      "cell_type": "markdown",
      "source": [
        "#4.**Write a Python program to remove duplicates from a list.**\n"
      ],
      "metadata": {
        "id": "ldPH22fIUfkt"
      }
    },
    {
      "cell_type": "code",
      "source": [
        "def remove_duplicates(my_list):\n",
        "\n",
        "  return list(set(my_list))\n",
        "\n",
        "\n",
        "my_list = [1, 2, 2, 3, 4, 4, 5]\n",
        "newList = remove_duplicates(my_list)\n",
        "print(newList)\n"
      ],
      "metadata": {
        "colab": {
          "base_uri": "https://localhost:8080/"
        },
        "id": "KM9bX0AMUqC1",
        "outputId": "762d73fb-07d3-40ec-f4e1-2962ae492a25"
      },
      "execution_count": null,
      "outputs": [
        {
          "output_type": "stream",
          "name": "stdout",
          "text": [
            "[1, 2, 3, 4, 5]\n"
          ]
        }
      ]
    },
    {
      "cell_type": "markdown",
      "source": [
        "#5.**Write a Python program to check if a list is empty or not.**"
      ],
      "metadata": {
        "id": "TVyqo9xeV2HC"
      }
    },
    {
      "cell_type": "code",
      "source": [
        "my_list1 = []\n",
        "my_list2 = [1, 2, 3]\n",
        "def is_empty(my_list):\n",
        "\n",
        "  return len(my_list) == 0\n",
        "\n",
        "\n",
        "\n",
        "print(f\"List1 is empty: {is_empty(my_list1)}\")\n",
        "print(f\"List2 is empty: {is_empty(my_list2)}\")"
      ],
      "metadata": {
        "colab": {
          "base_uri": "https://localhost:8080/"
        },
        "id": "F1o1hP1WV_Wl",
        "outputId": "73af1749-9369-45be-fd1c-6f42e13ac465"
      },
      "execution_count": null,
      "outputs": [
        {
          "output_type": "stream",
          "name": "stdout",
          "text": [
            "List1 is empty: True\n",
            "List2 is empty: False\n"
          ]
        }
      ]
    },
    {
      "cell_type": "markdown",
      "source": [
        "#6.**Write a Python program to filter the list if the length of the character is < 4**\n",
        "Sample List : ['abc', 'xyz', 'aba', '1221']                              \n",
        " Expected Result: ['abc', 'xyz', 'aba']\n"
      ],
      "metadata": {
        "id": "JdHsx1VyFeht"
      }
    },
    {
      "cell_type": "code",
      "source": [
        "my_list = ['abc', 'xyz', 'aba', '1221']\n",
        "def short_strings(words):\n",
        "  return [i for i in words if len(i) < 4]\n",
        "\n",
        "filtered_list = short_strings(my_list)\n",
        "\n",
        "print(f\"Filtered list (length < 4): {filtered_list}\")"
      ],
      "metadata": {
        "colab": {
          "base_uri": "https://localhost:8080/"
        },
        "id": "bA_LrzdZHXWf",
        "outputId": "88416657-b3bc-4353-b15b-8ad0727bb2a2"
      },
      "execution_count": null,
      "outputs": [
        {
          "output_type": "stream",
          "name": "stdout",
          "text": [
            "Filtered list (length < 4): ['abc', 'xyz', 'aba']\n"
          ]
        }
      ]
    },
    {
      "cell_type": "markdown",
      "source": [
        "#7.**Write a Python program to find the second largest number in a list.**\n"
      ],
      "metadata": {
        "id": "B8dln24NH6uq"
      }
    },
    {
      "cell_type": "code",
      "source": [
        "my_list = [10, 2, 7, 15, 1]\n",
        "\n",
        "def find_second_largest(numbers):\n",
        "\n",
        "  if len(numbers) < 2:\n",
        "    return None\n",
        "\n",
        "\n",
        "  numbers.sort(reverse=True)\n",
        "\n",
        "  return numbers[1]\n",
        "\n",
        "\n",
        "second_largest = find_second_largest(my_list.copy())\n",
        "\n",
        "print(f\"The second largest number is: {second_largest}\")\n"
      ],
      "metadata": {
        "colab": {
          "base_uri": "https://localhost:8080/"
        },
        "id": "J5LBLvLzIA72",
        "outputId": "2d21ac4b-9568-4108-a06a-ebebb19ccb23"
      },
      "execution_count": null,
      "outputs": [
        {
          "output_type": "stream",
          "name": "stdout",
          "text": [
            "The second largest number is: 10\n"
          ]
        }
      ]
    },
    {
      "cell_type": "markdown",
      "source": [
        "#8.**Write a Python program to reverse a list at a specific location.**\n"
      ],
      "metadata": {
        "id": "wkt3D2SYS_80"
      }
    },
    {
      "cell_type": "code",
      "source": [
        "mylist=[2, 4, 6, 8, 10, 12, 14]\n",
        "\n",
        "location=int(input(\"Enter a location to reverse the list :\"))\n",
        "\n",
        "if (location < 0 or location >= len(mylist)):\n",
        "  print(\"invalid location\")\n",
        "\n",
        "else:\n",
        "\n",
        "  new_list1 = mylist[:location+1]\n",
        "  new_list1.reverse()\n",
        "  new_list2 = mylist[location+1:]\n",
        "  new_list3 = new_list1 + new_list2\n",
        "\n",
        "print(f\"List after reversing at the location {location} is : {new_list3}\")\n"
      ],
      "metadata": {
        "id": "KBz9tSy_TGUK",
        "colab": {
          "base_uri": "https://localhost:8080/"
        },
        "outputId": "a9d9929e-63ce-41cf-af0d-2fd08c5bd272"
      },
      "execution_count": null,
      "outputs": [
        {
          "output_type": "stream",
          "name": "stdout",
          "text": [
            "Enter a location to reverse the list :3\n",
            "List after reversing at the location 3 is : [8, 6, 4, 2, 10, 12, 14]\n"
          ]
        }
      ]
    },
    {
      "cell_type": "markdown",
      "source": [
        "#9.**Write a Python program to check if a list is a palindrome or not. Return true otherwise false.**"
      ],
      "metadata": {
        "id": "b9JkeW4lMQHS"
      }
    },
    {
      "cell_type": "code",
      "source": [
        "\n",
        "list=[1,3,5,3,1]\n",
        "\n",
        "reversedlist=list.copy()\n",
        "reversedlist.reverse()\n",
        "\n",
        "if(list==reversedlist):\n",
        "  print(\"TRUE\")\n",
        "else:\n",
        "  print(\"FALSE\")\n",
        "\n",
        "\n"
      ],
      "metadata": {
        "colab": {
          "base_uri": "https://localhost:8080/"
        },
        "id": "tPOpmTQlMXWT",
        "outputId": "5369b810-4882-412e-ddb1-0be4a194a5f0"
      },
      "execution_count": null,
      "outputs": [
        {
          "output_type": "stream",
          "name": "stdout",
          "text": [
            "TRUE\n"
          ]
        }
      ]
    },
    {
      "cell_type": "markdown",
      "source": [
        "#10.**Write a Python a program to find the union and intersection of two lists.**"
      ],
      "metadata": {
        "id": "Jl_qguWUNHAE"
      }
    },
    {
      "cell_type": "code",
      "source": [
        "list1 = [1, 2, 3, 4, 5]\n",
        "list2 = [3, 4, 5, 6, 7]\n",
        "\n",
        "def find_union_intersection(list1, list2):\n",
        "\n",
        "  set1 = set(list1)\n",
        "  set2 = set(list2)\n",
        "\n",
        "\n",
        "  union = set1 | set2\n",
        "\n",
        "\n",
        "  intersection = set1 & set2\n",
        "\n",
        "  return union, intersection\n",
        "\n",
        "\n",
        "\n",
        "union, intersection = find_union_intersection(list1, list2)\n",
        "\n",
        "print(f\"Union of lists: {union}\")\n",
        "print(f\"Intersection of lists: {intersection}\")\n"
      ],
      "metadata": {
        "colab": {
          "base_uri": "https://localhost:8080/"
        },
        "id": "EmqMDolDNLZT",
        "outputId": "8b4f9e54-2482-4819-95e7-83efa8b243b9"
      },
      "execution_count": null,
      "outputs": [
        {
          "output_type": "stream",
          "name": "stdout",
          "text": [
            "Union of lists: {1, 2, 3, 4, 5, 6, 7}\n",
            "Intersection of lists: {3, 4, 5}\n"
          ]
        }
      ]
    },
    {
      "cell_type": "markdown",
      "source": [
        "#11.**Write a Python script to sort (ascending and descending) a dictionary by value.**"
      ],
      "metadata": {
        "id": "GhdyID1MNeTz"
      }
    },
    {
      "cell_type": "code",
      "source": [
        "mydict={'a':5, 'b':1, 'c':3, 'd':4}\n",
        "\n",
        "mydict_asc=dict(sorted(mydict.items(),key=lambda item:item[1]))\n",
        "mydict_dec=dict(sorted(mydict.items(),key=lambda item:item[1],reverse=True))\n",
        "\n",
        "print(f\"The dictionary in ascending : {mydict_asc}\")\n",
        "print(f\"The dictionary in descending : {mydict_dec}\")"
      ],
      "metadata": {
        "colab": {
          "base_uri": "https://localhost:8080/"
        },
        "id": "P5djjBtlNuXM",
        "outputId": "eb1128fb-a7dc-4f2d-b1cf-2057954ca092"
      },
      "execution_count": null,
      "outputs": [
        {
          "output_type": "stream",
          "name": "stdout",
          "text": [
            "The dictionary in ascending : {'b': 1, 'c': 3, 'd': 4, 'a': 5}\n",
            "The dictionary in descending : {'a': 5, 'd': 4, 'c': 3, 'b': 1}\n"
          ]
        }
      ]
    },
    {
      "cell_type": "markdown",
      "source": [
        "#12.**Write a Python script to check whether a given key already exists in a dictionary.**"
      ],
      "metadata": {
        "id": "9T9e5BhWOUDJ"
      }
    },
    {
      "cell_type": "code",
      "source": [
        "my_dict = {'name': 'Daniel', 'age': 33, 'city': 'New York'}\n",
        "\n",
        "def key_exists(my_dict, key):\n",
        "\n",
        "  return key in my_dict\n",
        "\n",
        "\n",
        "key_to_check = 'age'\n",
        "\n",
        "if key_exists(my_dict.copy(), key_to_check):\n",
        "  print(f\"Key '{key_to_check}' exists in the dictionary.\")\n",
        "else:\n",
        "  print(f\"Key '{key_to_check}' does not exist in the dictionary.\")\n"
      ],
      "metadata": {
        "colab": {
          "base_uri": "https://localhost:8080/"
        },
        "id": "A0c7oi1ZOZFj",
        "outputId": "83dbbbe8-d3d2-42fe-c209-64600483a4a7"
      },
      "execution_count": null,
      "outputs": [
        {
          "output_type": "stream",
          "name": "stdout",
          "text": [
            "Key 'age' exists in the dictionary.\n"
          ]
        }
      ]
    },
    {
      "cell_type": "markdown",
      "source": [
        "#13.**Write a Python program to sum all the values in a dictionary.**"
      ],
      "metadata": {
        "id": "o_nglQP9OnqL"
      }
    },
    {
      "cell_type": "code",
      "source": [
        "my_dict = {'a': 10, 'b': 5, 'c': 15, 'd': 20}\n",
        "\n",
        "def sum_dict(data):\n",
        "\n",
        "  total = 0\n",
        "\n",
        "  for value in data.values():\n",
        "    total += value\n",
        "\n",
        "  return total\n",
        "\n",
        "\n",
        "sum_of_values = sum_dict(my_dict.copy())\n",
        "print(f\"The sum of all values in the dictionary: {sum_of_values}\")\n"
      ],
      "metadata": {
        "colab": {
          "base_uri": "https://localhost:8080/"
        },
        "id": "X220pAHWOrsc",
        "outputId": "c190b7f4-5271-4f45-d473-a39662ec508e"
      },
      "execution_count": null,
      "outputs": [
        {
          "output_type": "stream",
          "name": "stdout",
          "text": [
            "The sum of all values in the dictionary: 50\n"
          ]
        }
      ]
    },
    {
      "cell_type": "markdown",
      "source": [
        "#14.**.Write a Python program to create a dictionary with a number and its corresponding square from 1 to input number. And also check if the input number is less than 10**\n",
        "Eg:\n",
        "Input : 3\n",
        "\n",
        "Output : {1:1, 2:4, 3:9}"
      ],
      "metadata": {
        "id": "ScxRgsQMO3TU"
      }
    },
    {
      "cell_type": "code",
      "source": [
        "num=int(input(\"Enter a number :\"))\n",
        "\n",
        "if(num>=10):\n",
        "  print(\"Entered number must be less than 10 \")\n",
        "\n",
        "else:\n",
        "\n",
        "  my_dict={i:i*i for i in range(1,num+1)}\n",
        "\n",
        "  print(f\"The required dictionay is :{my_dict}\")"
      ],
      "metadata": {
        "colab": {
          "base_uri": "https://localhost:8080/"
        },
        "id": "WQMr6LqiPJZ3",
        "outputId": "e87f3847-5944-4805-8838-1dadcdf907c6"
      },
      "execution_count": null,
      "outputs": [
        {
          "output_type": "stream",
          "name": "stdout",
          "text": [
            "Enter a number :7\n",
            "The required dictionay is :{1: 1, 2: 4, 3: 9, 4: 16, 5: 25, 6: 36, 7: 49}\n"
          ]
        }
      ]
    },
    {
      "cell_type": "markdown",
      "source": [
        "#15.**Write a Python program to sort a given dictionary by key.**"
      ],
      "metadata": {
        "id": "RJf75bfNPThW"
      }
    },
    {
      "cell_type": "code",
      "source": [
        "my_dict = {'a': 3, 'b': 1, 'z': 2, 'e': 10}\n",
        "\n",
        "\n",
        "def sort_dict_by_key(data):\n",
        "\n",
        "  return dict(sorted(data.items()))\n",
        "\n",
        "\n",
        "sorted_dict = sort_dict_by_key(my_dict.copy())\n",
        "print(f\"Sorted dictionary by key: {sorted_dict}\")\n"
      ],
      "metadata": {
        "colab": {
          "base_uri": "https://localhost:8080/"
        },
        "id": "EjiwGihMPcaT",
        "outputId": "d7bd7133-f209-45ed-ef36-cbf9e97347d3"
      },
      "execution_count": null,
      "outputs": [
        {
          "output_type": "stream",
          "name": "stdout",
          "text": [
            "Sorted dictionary by key: {'a': 3, 'b': 1, 'e': 10, 'z': 2}\n"
          ]
        }
      ]
    },
    {
      "cell_type": "markdown",
      "source": [
        "#16.**Write a Python program to create a dictionary from a string.**\n",
        "Note: Track the count of the letters from the string.\n",
        "\n",
        "Sample string : 'learnpython'\n",
        "\n",
        "Expected output: {'l': 1, 'e': 1, 'a': 1, 'r': 1, 'n': 2, 'p': 1, 'y': 1, 't': 1, 'h': 1, 'o': 1}\n"
      ],
      "metadata": {
        "id": "ruouDXMBPnE2"
      }
    },
    {
      "cell_type": "code",
      "source": [
        "string = 'helloworld'\n",
        "\n",
        "def letter_count(string):\n",
        "\n",
        "  letter_counts = {}\n",
        "  for i in string:\n",
        "\n",
        "    i = i.lower()\n",
        "    if i.isalpha():\n",
        "      if i in letter_counts:\n",
        "        letter_counts[i] += 1\n",
        "      else:\n",
        "        letter_counts[i] = 1\n",
        "  return letter_counts\n",
        "\n",
        "\n",
        "letter_counts = letter_count(string)\n",
        "print(f\"Letter count dictionary: {letter_counts}\")\n"
      ],
      "metadata": {
        "colab": {
          "base_uri": "https://localhost:8080/"
        },
        "id": "9_PaDylgP7O3",
        "outputId": "2b1c9a41-163c-4f0f-d342-a2e8566e8edf"
      },
      "execution_count": null,
      "outputs": [
        {
          "output_type": "stream",
          "name": "stdout",
          "text": [
            "Letter count dictionary: {'h': 1, 'e': 1, 'l': 3, 'o': 2, 'w': 1, 'r': 1, 'd': 1}\n"
          ]
        }
      ]
    },
    {
      "cell_type": "markdown",
      "source": [
        "#17.**Write a Python program to get the top three items in a shop.**\n",
        "Sample data: {'item1': 45.50, 'item2':35, 'item3': 41.30, 'item4':55, 'item5': 24}\n",
        "\n",
        "Expected Output:\n",
        "\n",
        "item4 55\n",
        "\n",
        "item1 45.5\n",
        "\n",
        "item3 41.3"
      ],
      "metadata": {
        "id": "1EH1KjDeQGb3"
      }
    },
    {
      "cell_type": "code",
      "source": [
        "shopitems={'item1': 45.50, 'item2':35, 'item3': 41.30, 'item4':55, 'item5': 24}\n",
        "\n",
        "sorteditems=sorted(shopitems.items(),key=lambda item: item[1],reverse=True)\n",
        "\n",
        "top_three_items=sorteditems[:3]\n",
        "\n",
        "print(f\"The top three items in the shop is :{top_three_items}\")\n"
      ],
      "metadata": {
        "colab": {
          "base_uri": "https://localhost:8080/"
        },
        "id": "2yFqZhhgQSY8",
        "outputId": "41bf5435-c037-4def-be60-4213bde93793"
      },
      "execution_count": null,
      "outputs": [
        {
          "output_type": "stream",
          "name": "stdout",
          "text": [
            "The top three items in the shop is :[('item4', 55), ('item1', 45.5), ('item3', 41.3)]\n"
          ]
        }
      ]
    }
  ]
}