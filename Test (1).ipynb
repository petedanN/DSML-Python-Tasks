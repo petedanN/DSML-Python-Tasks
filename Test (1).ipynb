{
  "nbformat": 4,
  "nbformat_minor": 0,
  "metadata": {
    "colab": {
      "provenance": []
    },
    "kernelspec": {
      "name": "python3",
      "display_name": "Python 3"
    },
    "language_info": {
      "name": "python"
    }
  },
  "cells": [
    {
      "cell_type": "markdown",
      "source": [
        "#**Task 1.1**\n",
        "\n",
        "##Python program to find numbers divisible by 7 and multiples of 5:\n"
      ],
      "metadata": {
        "id": "qa_Fa9RtN-I8"
      }
    },
    {
      "cell_type": "code",
      "execution_count": null,
      "metadata": {
        "id": "ppAOUDM9Nv_a"
      },
      "outputs": [],
      "source": [
        "def find_numbers():\n",
        "\n",
        "    numbers = []\n",
        "    n = int(input(\"Enter the range of numbers: \"))\n",
        "\n",
        "    for i in range(n+1):\n",
        "        if i % 7 == 0 and i % 5 == 0:\n",
        "            numbers.append(i)\n",
        "\n",
        "    return numbers\n",
        "\n",
        "result = find_numbers()\n",
        "print(\"Numbers divisible by 7 and multiples of 5:\", result)"
      ]
    },
    {
      "cell_type": "markdown",
      "source": [
        "#**Task 1.2**\n",
        "\n",
        "##Python program to check if the user input is even, odd, or zero:\n"
      ],
      "metadata": {
        "id": "Mjp_MOuZO562"
      }
    },
    {
      "cell_type": "code",
      "source": [
        "def check_even_odd():\n",
        "\n",
        "    num = int(input(\"Enter a number: \"))\n",
        "    if num == 0:\n",
        "\n",
        "        print(\"Zero\")\n",
        "    elif num % 2 == 0:\n",
        "        print(\"Even\")\n",
        "\n",
        "    else:\n",
        "        print(\"Odd\")\n",
        "\n",
        "check_even_odd()"
      ],
      "metadata": {
        "id": "_7YNv2MiPD9l"
      },
      "execution_count": null,
      "outputs": []
    },
    {
      "cell_type": "markdown",
      "source": [
        "#**Task 1.3**\n",
        "\n",
        "##Python program to print the decimal part of an input number:"
      ],
      "metadata": {
        "id": "CwPbVIp_PLwH"
      }
    },
    {
      "cell_type": "code",
      "source": [
        "def print_decimal_part():\n",
        "\n",
        "    num = float(input(\"Enter a number: \"))\n",
        "    decimal_part = num - int(num)\n",
        "\n",
        "    if decimal_part == 0:\n",
        "        print(\"INTEGER\")\n",
        "\n",
        "    else:\n",
        "        print(\"Decimal part:\", decimal_part)\n",
        "\n",
        "print_decimal_part()"
      ],
      "metadata": {
        "id": "RTVxUQdHPWvu"
      },
      "execution_count": null,
      "outputs": []
    }
  ]
}