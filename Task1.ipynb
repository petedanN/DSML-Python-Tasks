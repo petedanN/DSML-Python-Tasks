{
  "nbformat": 4,
  "nbformat_minor": 0,
  "metadata": {
    "colab": {
      "provenance": [],
      "authorship_tag": "ABX9TyPl85cI9/Zwd8w+AFsMIqrM",
      "include_colab_link": true
    },
    "kernelspec": {
      "name": "python3",
      "display_name": "Python 3"
    },
    "language_info": {
      "name": "python"
    }
  },
  "cells": [
    {
      "cell_type": "markdown",
      "metadata": {
        "id": "view-in-github",
        "colab_type": "text"
      },
      "source": [
        "<a href=\"https://colab.research.google.com/github/petedanN/DSML-Python-Tasks/blob/main/Task1.ipynb\" target=\"_parent\"><img src=\"https://colab.research.google.com/assets/colab-badge.svg\" alt=\"Open In Colab\"/></a>"
      ]
    },
    {
      "cell_type": "markdown",
      "source": [
        "#**Task 1.1**\n",
        "\n",
        "##Python program to find numbers divisible by 7 and multiples of 5:\n"
      ],
      "metadata": {
        "id": "qa_Fa9RtN-I8"
      }
    },
    {
      "cell_type": "code",
      "execution_count": 6,
      "metadata": {
        "id": "ppAOUDM9Nv_a",
        "colab": {
          "base_uri": "https://localhost:8080/"
        },
        "outputId": "d2d0e31b-1ec8-4e01-9e7f-ef5c494ae86f"
      },
      "outputs": [
        {
          "output_type": "stream",
          "name": "stdout",
          "text": [
            "Enter the range of numbers: 78\n",
            "Numbers divisible by 7 and multiples of 5: [0, 35, 70]\n"
          ]
        }
      ],
      "source": [
        "def find_numbers():\n",
        "\n",
        "    numbers = []\n",
        "    n = int(input(\"Enter the range of numbers: \"))\n",
        "\n",
        "    for i in range(n+1):\n",
        "        if i % 7 == 0 and i % 5 == 0:\n",
        "            numbers.append(i)\n",
        "\n",
        "    return numbers\n",
        "\n",
        "result = find_numbers()\n",
        "print(\"Numbers divisible by 7 and multiples of 5:\", result)"
      ]
    },
    {
      "cell_type": "markdown",
      "source": [
        "#**Task 1.2**\n",
        "\n",
        "##Python program to check if the user input is even, odd, or zero:\n"
      ],
      "metadata": {
        "id": "Mjp_MOuZO562"
      }
    },
    {
      "cell_type": "code",
      "source": [
        "def check_even_odd():\n",
        "\n",
        "    num = int(input(\"Enter a number: \"))\n",
        "    if num == 0:\n",
        "\n",
        "        print(\"Zero\")\n",
        "    elif num % 2 == 0:\n",
        "        print(\"Even\")\n",
        "\n",
        "    else:\n",
        "        print(\"Odd\")\n",
        "\n",
        "check_even_odd()"
      ],
      "metadata": {
        "id": "_7YNv2MiPD9l",
        "outputId": "974b0c19-b072-4a3e-82d4-0bc19de72942",
        "colab": {
          "base_uri": "https://localhost:8080/"
        }
      },
      "execution_count": 7,
      "outputs": [
        {
          "output_type": "stream",
          "name": "stdout",
          "text": [
            "Enter a number: 46\n",
            "Even\n"
          ]
        }
      ]
    },
    {
      "cell_type": "markdown",
      "source": [
        "#**Task 1.3**\n",
        "\n",
        "##Python program to print the decimal part of an input number:"
      ],
      "metadata": {
        "id": "CwPbVIp_PLwH"
      }
    },
    {
      "cell_type": "code",
      "source": [
        "number = float(input(\"Enter a number: \"))\n",
        "\n",
        "decimal_part = number - int(number)\n",
        "\n",
        "print(\"Decimal part:\", decimal_part)\n"
      ],
      "metadata": {
        "id": "RTVxUQdHPWvu",
        "outputId": "664e321d-6979-4fa6-85c0-2bef20da14e1",
        "colab": {
          "base_uri": "https://localhost:8080/"
        }
      },
      "execution_count": 9,
      "outputs": [
        {
          "output_type": "stream",
          "name": "stdout",
          "text": [
            "Enter a number: 21.5\n",
            "Decimal part: 0.5\n"
          ]
        }
      ]
    }
  ]
}